{
 "cells": [
  {
   "cell_type": "markdown",
   "metadata": {
    "id": "3YUq2mNaJa2c"
   },
   "source": [
    "# Exercices NumPy\n",
    "\n",
    "Maintenant que nous avons découvert NumPy, nous allons tester vos connaissances. Nous allons commencer par quelques tâches simples, puis nous vous poserons des questions plus complexes.\n",
    "\n",
    "<div class=\"alert alert-danger\" style=\"margin: 10px\"><strong>NOTE IMPORTANTE !</strong> Assurez-vous de ne pas exécuter les cellules directement au-dessus de l'exemple de résultat affiché, autrement vous écrirez par dessus ce résultat attendu (et devrez aller chercher de nouveau le notebook du cours ou regarder la correction) !</div>"
   ]
  },
  {
   "cell_type": "markdown",
   "metadata": {
    "id": "PadcojW-Ja2c"
   },
   "source": [
    "## 1. Import NumPy as np"
   ]
  },
  {
   "cell_type": "code",
   "execution_count": null,
   "metadata": {
    "collapsed": true,
    "id": "idy2W-5VJa2d"
   },
   "outputs": [],
   "source": [
    "import numpy as np"
   ]
  },
  {
   "cell_type": "markdown",
   "metadata": {
    "id": "oWlRftOKJa2d"
   },
   "source": [
    "## 2. Créer un tableau de 10 zéros"
   ]
  },
  {
   "cell_type": "code",
   "execution_count": 3,
   "metadata": {
    "id": "PEYA9FzKJa2e"
   },
   "outputs": [
    {
     "data": {
      "text/plain": [
       "array([0., 0., 0., 0., 0., 0., 0., 0., 0., 0.])"
      ]
     },
     "execution_count": 3,
     "metadata": {},
     "output_type": "execute_result"
    }
   ],
   "source": [
    "\n",
    "np.zeros(10)"
   ]
  },
  {
   "cell_type": "code",
   "execution_count": null,
   "metadata": {
    "colab": {
     "base_uri": "https://localhost:8080/"
    },
    "id": "7unhIJuOJa2e",
    "outputId": "830a951c-ed41-440d-ab78-d54e0a35c5b2"
   },
   "outputs": [
    {
     "data": {
      "text/plain": [
       "array([0., 0., 0., 0., 0., 0., 0., 0., 0., 0.])"
      ]
     },
     "execution_count": 10,
     "metadata": {
      "tags": []
     },
     "output_type": "execute_result"
    }
   ],
   "source": [
    "# Ne pas exécuter cette cellule"
   ]
  },
  {
   "cell_type": "markdown",
   "metadata": {
    "id": "TgwRI7PyJa2f"
   },
   "source": [
    "## 3. Créer un tableau de 10 uns"
   ]
  },
  {
   "cell_type": "code",
   "execution_count": 4,
   "metadata": {
    "id": "mrB7gGEVJa2f"
   },
   "outputs": [
    {
     "data": {
      "text/plain": [
       "array([1., 1., 1., 1., 1., 1., 1., 1., 1., 1.])"
      ]
     },
     "execution_count": 4,
     "metadata": {},
     "output_type": "execute_result"
    }
   ],
   "source": [
    "np.ones(10)"
   ]
  },
  {
   "cell_type": "code",
   "execution_count": null,
   "metadata": {
    "colab": {
     "base_uri": "https://localhost:8080/"
    },
    "id": "uW5BSAFkJa2g",
    "outputId": "76942b78-d3ed-45ff-d735-59a7b6084ee3"
   },
   "outputs": [
    {
     "data": {
      "text/plain": [
       "array([1., 1., 1., 1., 1., 1., 1., 1., 1., 1.])"
      ]
     },
     "execution_count": 5,
     "metadata": {
      "tags": []
     },
     "output_type": "execute_result"
    }
   ],
   "source": [
    "# Ne pas exécuter cette cellule"
   ]
  },
  {
   "cell_type": "markdown",
   "metadata": {
    "id": "pNUcf7sVJa2g"
   },
   "source": [
    "## 4. Créer un tableau de 10 cinq"
   ]
  },
  {
   "cell_type": "code",
   "execution_count": 5,
   "metadata": {
    "id": "d2AUAEx8Ja2g"
   },
   "outputs": [
    {
     "data": {
      "text/plain": [
       "array([5., 5., 5., 5., 5., 5., 5., 5., 5., 5.])"
      ]
     },
     "execution_count": 5,
     "metadata": {},
     "output_type": "execute_result"
    }
   ],
   "source": [
    "np.ones(10)*5"
   ]
  },
  {
   "cell_type": "code",
   "execution_count": null,
   "metadata": {
    "colab": {
     "base_uri": "https://localhost:8080/"
    },
    "id": "w5KX7mz3Ja2h",
    "outputId": "d990ef58-3667-4e53-9656-d9c2c228cc36"
   },
   "outputs": [
    {
     "data": {
      "text/plain": [
       "array([5., 5., 5., 5., 5., 5., 5., 5., 5., 5.])"
      ]
     },
     "execution_count": 7,
     "metadata": {
      "tags": []
     },
     "output_type": "execute_result"
    }
   ],
   "source": [
    "# Ne pas exécuter cette cellule"
   ]
  },
  {
   "cell_type": "markdown",
   "metadata": {
    "id": "jZJK_P0ZJa2h"
   },
   "source": [
    "## 5. Créer un tableau des nombres entiers de 10 à 50"
   ]
  },
  {
   "cell_type": "code",
   "execution_count": 6,
   "metadata": {
    "id": "2Fr_Eod3Ja2h"
   },
   "outputs": [
    {
     "data": {
      "text/plain": [
       "array([10, 11, 12, 13, 14, 15, 16, 17, 18, 19, 20, 21, 22, 23, 24, 25, 26,\n",
       "       27, 28, 29, 30, 31, 32, 33, 34, 35, 36, 37, 38, 39, 40, 41, 42, 43,\n",
       "       44, 45, 46, 47, 48, 49])"
      ]
     },
     "execution_count": 6,
     "metadata": {},
     "output_type": "execute_result"
    }
   ],
   "source": [
    "np.arange(10, 50)"
   ]
  },
  {
   "cell_type": "code",
   "execution_count": null,
   "metadata": {
    "colab": {
     "base_uri": "https://localhost:8080/"
    },
    "id": "2H1YCwmDJa2h",
    "outputId": "4a67184a-b00a-4f1b-bf9e-0257bb0ac9d2"
   },
   "outputs": [
    {
     "data": {
      "text/plain": [
       "array([10, 11, 12, 13, 14, 15, 16, 17, 18, 19, 20, 21, 22, 23, 24, 25, 26,\n",
       "       27, 28, 29, 30, 31, 32, 33, 34, 35, 36, 37, 38, 39, 40, 41, 42, 43,\n",
       "       44, 45, 46, 47, 48, 49, 50])"
      ]
     },
     "execution_count": 8,
     "metadata": {
      "tags": []
     },
     "output_type": "execute_result"
    }
   ],
   "source": [
    "# Ne pas exécuter cette cellule"
   ]
  },
  {
   "cell_type": "markdown",
   "metadata": {
    "id": "OPXRC1NYJa2h"
   },
   "source": [
    "## 6. Créer un tableau de tous les entiers pairs de 10 à 50"
   ]
  },
  {
   "cell_type": "code",
   "execution_count": 7,
   "metadata": {
    "id": "P7NaHwRZJa2i"
   },
   "outputs": [
    {
     "data": {
      "text/plain": [
       "array([10, 12, 14, 16, 18, 20, 22, 24, 26, 28, 30, 32, 34, 36, 38, 40, 42,\n",
       "       44, 46, 48])"
      ]
     },
     "execution_count": 7,
     "metadata": {},
     "output_type": "execute_result"
    }
   ],
   "source": [
    "np.arange(10, 50, 2)"
   ]
  },
  {
   "cell_type": "code",
   "execution_count": null,
   "metadata": {
    "colab": {
     "base_uri": "https://localhost:8080/"
    },
    "id": "YU9p0QCaJa2i",
    "outputId": "c1424c48-8e7b-4fe4-b325-e436b6bf9806"
   },
   "outputs": [
    {
     "data": {
      "text/plain": [
       "array([10, 12, 14, 16, 18, 20, 22, 24, 26, 28, 30, 32, 34, 36, 38, 40, 42,\n",
       "       44, 46, 48, 50])"
      ]
     },
     "execution_count": 9,
     "metadata": {
      "tags": []
     },
     "output_type": "execute_result"
    }
   ],
   "source": [
    "# Ne pas exécuter cette cellule"
   ]
  },
  {
   "cell_type": "markdown",
   "metadata": {
    "id": "Vu7WJaggJa2i"
   },
   "source": [
    "## 7. Créer une matrice 3x3 avec des valeurs allant de 0 à 8"
   ]
  },
  {
   "cell_type": "code",
   "execution_count": 8,
   "metadata": {
    "id": "Md-YIwflJa2i"
   },
   "outputs": [
    {
     "data": {
      "text/plain": [
       "array([[0, 1, 2],\n",
       "       [3, 4, 5],\n",
       "       [6, 7, 8]])"
      ]
     },
     "execution_count": 8,
     "metadata": {},
     "output_type": "execute_result"
    }
   ],
   "source": [
    "np.arange(0, 9).reshape(3, 3)"
   ]
  },
  {
   "cell_type": "code",
   "execution_count": null,
   "metadata": {
    "colab": {
     "base_uri": "https://localhost:8080/"
    },
    "id": "481Yni-BJa2i",
    "outputId": "5008d5e7-06e1-4fe5-8665-71b453f60986"
   },
   "outputs": [
    {
     "data": {
      "text/plain": [
       "array([[0, 1, 2],\n",
       "       [3, 4, 5],\n",
       "       [6, 7, 8]])"
      ]
     },
     "execution_count": 11,
     "metadata": {
      "tags": []
     },
     "output_type": "execute_result"
    }
   ],
   "source": [
    "# Ne pas exécuter cette cellule"
   ]
  },
  {
   "cell_type": "markdown",
   "metadata": {
    "id": "J0oRDtVYJa2i"
   },
   "source": [
    "## 8. Créer une matrice d'identité 3x3"
   ]
  },
  {
   "cell_type": "code",
   "execution_count": 9,
   "metadata": {
    "id": "T2zIc084Ja2j"
   },
   "outputs": [
    {
     "data": {
      "text/plain": [
       "array([[1., 0., 0.],\n",
       "       [0., 1., 0.],\n",
       "       [0., 0., 1.]])"
      ]
     },
     "execution_count": 9,
     "metadata": {},
     "output_type": "execute_result"
    }
   ],
   "source": [
    "np.eye(3)"
   ]
  },
  {
   "cell_type": "code",
   "execution_count": null,
   "metadata": {
    "colab": {
     "base_uri": "https://localhost:8080/"
    },
    "id": "N4YEc7Q8Ja2j",
    "outputId": "afbd298a-72fe-49f7-bc47-6daed0ef170e"
   },
   "outputs": [
    {
     "data": {
      "text/plain": [
       "array([[1., 0., 0.],\n",
       "       [0., 1., 0.],\n",
       "       [0., 0., 1.]])"
      ]
     },
     "execution_count": 12,
     "metadata": {
      "tags": []
     },
     "output_type": "execute_result"
    }
   ],
   "source": [
    "# Ne pas exécuter cette cellule"
   ]
  },
  {
   "cell_type": "markdown",
   "metadata": {
    "id": "AiZnlGbvJa2j"
   },
   "source": [
    "## 9. Utiliser NumPy pour générer un nombre aléatoire entre 0 et 1\n",
    "\n",
    "NOTE : La valeur de votre résultat devrait être différente de celle indiquée ci-dessous."
   ]
  },
  {
   "cell_type": "code",
   "execution_count": 10,
   "metadata": {
    "id": "_zsh9kwhJa2j"
   },
   "outputs": [
    {
     "data": {
      "text/plain": [
       "0.7903253747475665"
      ]
     },
     "execution_count": 10,
     "metadata": {},
     "output_type": "execute_result"
    }
   ],
   "source": [
    "np.random.random()"
   ]
  },
  {
   "cell_type": "code",
   "execution_count": null,
   "metadata": {
    "id": "5XAgk9HLJa2j",
    "outputId": "ad834a25-6e1c-41d5-a5f9-cd21b1db0370"
   },
   "outputs": [
    {
     "data": {
      "text/plain": [
       "array([0.65248055])"
      ]
     },
     "execution_count": 9,
     "metadata": {
      "tags": []
     },
     "output_type": "execute_result"
    }
   ],
   "source": [
    "# Ne pas exécuter cette cellule"
   ]
  },
  {
   "cell_type": "markdown",
   "metadata": {
    "id": "rCagCFS6Ja2j"
   },
   "source": [
    "## 10. Utiliser NumPy pour générer un tableau de 25 nombres aléatoires tirés d'une distribution normale standard.\n",
    "\n",
    "NOTE : Les valeurs de votre résultat devraient être différentes de celles indiquées ci-dessous."
   ]
  },
  {
   "cell_type": "code",
   "execution_count": 11,
   "metadata": {
    "id": "iLaX4AxWJa2k"
   },
   "outputs": [
    {
     "data": {
      "text/plain": [
       "array([-0.24992655, -1.58710388,  1.15476346,  0.89591348, -0.65737007,\n",
       "        0.67093912,  0.29344492, -0.6617556 , -0.02414114, -2.25080173,\n",
       "       -0.13909483, -1.56981591, -0.7011436 ,  1.77089136, -1.93867138,\n",
       "        0.26827907,  0.14162238,  0.01502828,  0.27295458,  1.60532915,\n",
       "       -0.77715203,  0.45653817, -0.22705515,  0.77923979, -0.94651093])"
      ]
     },
     "execution_count": 11,
     "metadata": {},
     "output_type": "execute_result"
    }
   ],
   "source": [
    "np.random.randn(25)"
   ]
  },
  {
   "cell_type": "code",
   "execution_count": null,
   "metadata": {
    "colab": {
     "base_uri": "https://localhost:8080/"
    },
    "id": "izTb7XpnJa2k",
    "outputId": "8d375a06-d8b4-4377-bb9d-e08b7c9a7dbb"
   },
   "outputs": [
    {
     "data": {
      "text/plain": [
       "array([ 0.09383799, -0.52935636, -1.25121675,  1.16722582, -1.55552581,\n",
       "       -0.86892507, -0.15017841, -0.23712272,  0.43718044,  0.14334489,\n",
       "       -0.1974204 ,  0.32470701, -0.47640942,  0.82524833, -0.28739026,\n",
       "       -0.91433916,  1.90245017,  0.32386353, -0.42055596, -1.87368848,\n",
       "       -0.16755609,  1.58759932, -0.75185054, -0.27830683, -0.65479306])"
      ]
     },
     "execution_count": 13,
     "metadata": {
      "tags": []
     },
     "output_type": "execute_result"
    }
   ],
   "source": [
    "# Ne pas exécuter cette cellule"
   ]
  },
  {
   "cell_type": "markdown",
   "metadata": {
    "id": "9JeYFDJcJa2k"
   },
   "source": [
    "## 11. Créer la matrice suivante"
   ]
  },
  {
   "cell_type": "code",
   "execution_count": 12,
   "metadata": {
    "id": "kfxHHRBXJa2k"
   },
   "outputs": [
    {
     "data": {
      "text/plain": [
       "array([0.        , 0.01010101, 0.02020202, 0.03030303, 0.04040404,\n",
       "       0.05050505, 0.06060606, 0.07070707, 0.08080808, 0.09090909,\n",
       "       0.1010101 , 0.11111111, 0.12121212, 0.13131313, 0.14141414,\n",
       "       0.15151515, 0.16161616, 0.17171717, 0.18181818, 0.19191919,\n",
       "       0.2020202 , 0.21212121, 0.22222222, 0.23232323, 0.24242424,\n",
       "       0.25252525, 0.26262626, 0.27272727, 0.28282828, 0.29292929,\n",
       "       0.3030303 , 0.31313131, 0.32323232, 0.33333333, 0.34343434,\n",
       "       0.35353535, 0.36363636, 0.37373737, 0.38383838, 0.39393939,\n",
       "       0.4040404 , 0.41414141, 0.42424242, 0.43434343, 0.44444444,\n",
       "       0.45454545, 0.46464646, 0.47474747, 0.48484848, 0.49494949,\n",
       "       0.50505051, 0.51515152, 0.52525253, 0.53535354, 0.54545455,\n",
       "       0.55555556, 0.56565657, 0.57575758, 0.58585859, 0.5959596 ,\n",
       "       0.60606061, 0.61616162, 0.62626263, 0.63636364, 0.64646465,\n",
       "       0.65656566, 0.66666667, 0.67676768, 0.68686869, 0.6969697 ,\n",
       "       0.70707071, 0.71717172, 0.72727273, 0.73737374, 0.74747475,\n",
       "       0.75757576, 0.76767677, 0.77777778, 0.78787879, 0.7979798 ,\n",
       "       0.80808081, 0.81818182, 0.82828283, 0.83838384, 0.84848485,\n",
       "       0.85858586, 0.86868687, 0.87878788, 0.88888889, 0.8989899 ,\n",
       "       0.90909091, 0.91919192, 0.92929293, 0.93939394, 0.94949495,\n",
       "       0.95959596, 0.96969697, 0.97979798, 0.98989899, 1.        ])"
      ]
     },
     "execution_count": 12,
     "metadata": {},
     "output_type": "execute_result"
    }
   ],
   "source": [
    "np.linspace(0, 1, 100)"
   ]
  },
  {
   "cell_type": "code",
   "execution_count": null,
   "metadata": {
    "colab": {
     "base_uri": "https://localhost:8080/"
    },
    "id": "_76o09fXJa2k",
    "outputId": "b3402fce-babc-4240-bb4b-874561e0f34a"
   },
   "outputs": [
    {
     "data": {
      "text/plain": [
       "array([[0.01, 0.02, 0.03, 0.04, 0.05, 0.06, 0.07, 0.08, 0.09, 0.1 ],\n",
       "       [0.11, 0.12, 0.13, 0.14, 0.15, 0.16, 0.17, 0.18, 0.19, 0.2 ],\n",
       "       [0.21, 0.22, 0.23, 0.24, 0.25, 0.26, 0.27, 0.28, 0.29, 0.3 ],\n",
       "       [0.31, 0.32, 0.33, 0.34, 0.35, 0.36, 0.37, 0.38, 0.39, 0.4 ],\n",
       "       [0.41, 0.42, 0.43, 0.44, 0.45, 0.46, 0.47, 0.48, 0.49, 0.5 ],\n",
       "       [0.51, 0.52, 0.53, 0.54, 0.55, 0.56, 0.57, 0.58, 0.59, 0.6 ],\n",
       "       [0.61, 0.62, 0.63, 0.64, 0.65, 0.66, 0.67, 0.68, 0.69, 0.7 ],\n",
       "       [0.71, 0.72, 0.73, 0.74, 0.75, 0.76, 0.77, 0.78, 0.79, 0.8 ],\n",
       "       [0.81, 0.82, 0.83, 0.84, 0.85, 0.86, 0.87, 0.88, 0.89, 0.9 ],\n",
       "       [0.91, 0.92, 0.93, 0.94, 0.95, 0.96, 0.97, 0.98, 0.99, 1.  ]])"
      ]
     },
     "execution_count": 14,
     "metadata": {
      "tags": []
     },
     "output_type": "execute_result"
    }
   ],
   "source": [
    "# Ne pas exécuter cette cellule"
   ]
  },
  {
   "cell_type": "markdown",
   "metadata": {
    "id": "F77dC3jTJa2k"
   },
   "source": [
    "## 12. Créer un tableau de 20 points linéairement espacés entre 0 et 1"
   ]
  },
  {
   "cell_type": "code",
   "execution_count": 13,
   "metadata": {
    "id": "errMUQXTJa2l"
   },
   "outputs": [
    {
     "data": {
      "text/plain": [
       "array([0.        , 0.05263158, 0.10526316, 0.15789474, 0.21052632,\n",
       "       0.26315789, 0.31578947, 0.36842105, 0.42105263, 0.47368421,\n",
       "       0.52631579, 0.57894737, 0.63157895, 0.68421053, 0.73684211,\n",
       "       0.78947368, 0.84210526, 0.89473684, 0.94736842, 1.        ])"
      ]
     },
     "execution_count": 13,
     "metadata": {},
     "output_type": "execute_result"
    }
   ],
   "source": [
    "np.linspace(0, 1, 20)"
   ]
  },
  {
   "cell_type": "code",
   "execution_count": null,
   "metadata": {
    "colab": {
     "base_uri": "https://localhost:8080/"
    },
    "id": "N8m515Y-Ja2l",
    "outputId": "b4f88556-b952-4355-adb3-f6cc7cfc9473"
   },
   "outputs": [
    {
     "data": {
      "text/plain": [
       "array([0.        , 0.05263158, 0.10526316, 0.15789474, 0.21052632,\n",
       "       0.26315789, 0.31578947, 0.36842105, 0.42105263, 0.47368421,\n",
       "       0.52631579, 0.57894737, 0.63157895, 0.68421053, 0.73684211,\n",
       "       0.78947368, 0.84210526, 0.89473684, 0.94736842, 1.        ])"
      ]
     },
     "execution_count": 15,
     "metadata": {
      "tags": []
     },
     "output_type": "execute_result"
    }
   ],
   "source": [
    "# Ne pas exécuter cette cellule"
   ]
  },
  {
   "cell_type": "markdown",
   "metadata": {
    "id": "9PjFmGwCJa2l"
   },
   "source": [
    "## Indexation et sélection NumPy\n",
    "\n",
    "On vous donne maintenant une matrice de départ (n'oubliez pas d'exécuter la cellule ci-dessous !), et on vous demande de reproduire les sorties de la matrice résultante"
   ]
  },
  {
   "cell_type": "code",
   "execution_count": 14,
   "metadata": {
    "colab": {
     "base_uri": "https://localhost:8080/"
    },
    "id": "E9waxbH_Ja2l",
    "outputId": "e59ad1e2-7621-4608-e7b2-d6aca6196140"
   },
   "outputs": [
    {
     "data": {
      "text/plain": [
       "array([[ 1,  2,  3,  4,  5],\n",
       "       [ 6,  7,  8,  9, 10],\n",
       "       [11, 12, 13, 14, 15],\n",
       "       [16, 17, 18, 19, 20],\n",
       "       [21, 22, 23, 24, 25]])"
      ]
     },
     "execution_count": 14,
     "metadata": {},
     "output_type": "execute_result"
    }
   ],
   "source": [
    "# EXÉCUTER CETTE CELLULE - C'EST NOTRE MATRICE DE DÉPART\n",
    "mat = np.arange(1,26).reshape(5,5)\n",
    "mat"
   ]
  },
  {
   "cell_type": "markdown",
   "metadata": {
    "id": "Ua8vSvMgJa2m"
   },
   "source": [
    "### 13. Écrire un code qui reproduit la sortie indiquée ci-dessous\n",
    "\n",
    "Faites attention à ne pas exécuter la cellule immédiatement au-dessus de la sortie, sinon vous ne pourrez plus voir la sortie attendue."
   ]
  },
  {
   "cell_type": "code",
   "execution_count": 15,
   "metadata": {
    "id": "uf2VdH5YJa2m"
   },
   "outputs": [
    {
     "data": {
      "text/plain": [
       "array([[12, 13, 14, 15],\n",
       "       [17, 18, 19, 20],\n",
       "       [22, 23, 24, 25]])"
      ]
     },
     "execution_count": 15,
     "metadata": {},
     "output_type": "execute_result"
    }
   ],
   "source": [
    "mat = np.arange(1,26).reshape(5,5)\n",
    "mat[2:6, 1:5]"
   ]
  },
  {
   "cell_type": "code",
   "execution_count": null,
   "metadata": {
    "colab": {
     "base_uri": "https://localhost:8080/"
    },
    "id": "UECZMbqnJa2m",
    "outputId": "6844e8c2-0a7e-402f-a05a-6345d25e2b4d"
   },
   "outputs": [
    {
     "data": {
      "text/plain": [
       "array([[12, 13, 14, 15],\n",
       "       [17, 18, 19, 20],\n",
       "       [22, 23, 24, 25]])"
      ]
     },
     "execution_count": 18,
     "metadata": {
      "tags": []
     },
     "output_type": "execute_result"
    }
   ],
   "source": [
    "# Ne pas exécuter cette cellule"
   ]
  },
  {
   "cell_type": "markdown",
   "metadata": {
    "id": "xbHMLnloJa2n"
   },
   "source": [
    "### 14. Écrire le code qui reproduit la sortie montrée ci-dessous"
   ]
  },
  {
   "cell_type": "code",
   "execution_count": 16,
   "metadata": {
    "id": "AjO08L3yJa2n"
   },
   "outputs": [
    {
     "data": {
      "text/plain": [
       "20"
      ]
     },
     "execution_count": 16,
     "metadata": {},
     "output_type": "execute_result"
    }
   ],
   "source": [
    "mat[3][4]"
   ]
  },
  {
   "cell_type": "code",
   "execution_count": null,
   "metadata": {
    "colab": {
     "base_uri": "https://localhost:8080/"
    },
    "id": "_PCadkNmJa2n",
    "outputId": "33ee2e8e-8559-4f04-b61c-e5e3860c95d8"
   },
   "outputs": [
    {
     "data": {
      "text/plain": [
       "20"
      ]
     },
     "execution_count": 19,
     "metadata": {
      "tags": []
     },
     "output_type": "execute_result"
    }
   ],
   "source": [
    "# Ne pas exécuter cette cellule"
   ]
  },
  {
   "cell_type": "markdown",
   "metadata": {
    "id": "RsFHirAbJa2n"
   },
   "source": [
    "### 15. Écrire le code qui reproduit la sortie montrée ci-dessous"
   ]
  },
  {
   "cell_type": "code",
   "execution_count": 18,
   "metadata": {
    "id": "8Z5hB_BdJa2n"
   },
   "outputs": [
    {
     "data": {
      "text/plain": [
       "array([[ 2],\n",
       "       [ 7],\n",
       "       [12]])"
      ]
     },
     "execution_count": 18,
     "metadata": {},
     "output_type": "execute_result"
    }
   ],
   "source": [
    "mat[0:3, 1:2]"
   ]
  },
  {
   "cell_type": "code",
   "execution_count": null,
   "metadata": {
    "colab": {
     "base_uri": "https://localhost:8080/"
    },
    "id": "ZbNe2n4RJa2o",
    "outputId": "5dfb86f7-e331-43d7-853e-5b0abd967fef"
   },
   "outputs": [
    {
     "data": {
      "text/plain": [
       "array([[ 2],\n",
       "       [ 7],\n",
       "       [12]])"
      ]
     },
     "execution_count": 20,
     "metadata": {
      "tags": []
     },
     "output_type": "execute_result"
    }
   ],
   "source": [
    "# ne pas exécuter cette cellule"
   ]
  },
  {
   "cell_type": "markdown",
   "metadata": {
    "id": "vg78LuSaJa2o"
   },
   "source": [
    "### 16. Écrire le code qui reproduit la sortie montrée ci-dessous"
   ]
  },
  {
   "cell_type": "code",
   "execution_count": 19,
   "metadata": {
    "id": "aM4Lz38UJa2o"
   },
   "outputs": [
    {
     "data": {
      "text/plain": [
       "array([21, 22, 23, 24, 25])"
      ]
     },
     "execution_count": 19,
     "metadata": {},
     "output_type": "execute_result"
    }
   ],
   "source": [
    "mat[4]"
   ]
  },
  {
   "cell_type": "code",
   "execution_count": null,
   "metadata": {
    "colab": {
     "base_uri": "https://localhost:8080/"
    },
    "id": "yJ1jglQEJa2o",
    "outputId": "454de7fc-0cca-4646-cc62-7c9057fa758c"
   },
   "outputs": [
    {
     "data": {
      "text/plain": [
       "array([21, 22, 23, 24, 25])"
      ]
     },
     "execution_count": 21,
     "metadata": {
      "tags": []
     },
     "output_type": "execute_result"
    }
   ],
   "source": [
    "# Ne pas exécuter cette cellule"
   ]
  },
  {
   "cell_type": "markdown",
   "metadata": {
    "id": "1zTkuwC2Ja2o"
   },
   "source": [
    "### 17. Écrire le code qui reproduit la sortie montrée ci-dessous"
   ]
  },
  {
   "cell_type": "code",
   "execution_count": 20,
   "metadata": {
    "id": "TWzFcZ1RJa2o"
   },
   "outputs": [
    {
     "data": {
      "text/plain": [
       "array([[16, 17, 18, 19, 20],\n",
       "       [21, 22, 23, 24, 25]])"
      ]
     },
     "execution_count": 20,
     "metadata": {},
     "output_type": "execute_result"
    }
   ],
   "source": [
    "mat[3:5]"
   ]
  },
  {
   "cell_type": "code",
   "execution_count": null,
   "metadata": {
    "colab": {
     "base_uri": "https://localhost:8080/"
    },
    "id": "Xbap4i3JJa2o",
    "outputId": "0cd43148-2be9-468b-a829-3319c3b40571"
   },
   "outputs": [
    {
     "data": {
      "text/plain": [
       "array([[16, 17, 18, 19, 20],\n",
       "       [21, 22, 23, 24, 25]])"
      ]
     },
     "execution_count": 22,
     "metadata": {
      "tags": []
     },
     "output_type": "execute_result"
    }
   ],
   "source": [
    "# Ne pas exécuter cette cellule"
   ]
  },
  {
   "cell_type": "markdown",
   "metadata": {
    "id": "vjciQC-0Ja2p"
   },
   "source": [
    "## Opérations NumPy"
   ]
  },
  {
   "cell_type": "markdown",
   "metadata": {
    "id": "JMR7i7eRJa2p"
   },
   "source": [
    "### 18. Obtenir la somme de toutes les valeurs de mat"
   ]
  },
  {
   "cell_type": "code",
   "execution_count": 21,
   "metadata": {
    "id": "BtocV5tyJa2p"
   },
   "outputs": [
    {
     "data": {
      "text/plain": [
       "325"
      ]
     },
     "execution_count": 21,
     "metadata": {},
     "output_type": "execute_result"
    }
   ],
   "source": [
    "np.sum(mat)"
   ]
  },
  {
   "cell_type": "code",
   "execution_count": null,
   "metadata": {
    "colab": {
     "base_uri": "https://localhost:8080/"
    },
    "id": "cBLqDlYnJa2p",
    "outputId": "0dc30259-6907-4f35-80bf-f05bdb54267a"
   },
   "outputs": [
    {
     "data": {
      "text/plain": [
       "325"
      ]
     },
     "execution_count": 23,
     "metadata": {
      "tags": []
     },
     "output_type": "execute_result"
    }
   ],
   "source": [
    "# Ne pas exécuter cette cellule"
   ]
  },
  {
   "cell_type": "markdown",
   "metadata": {
    "id": "F4NZI1S2Ja2p"
   },
   "source": [
    "### 19. Obtenir l'écart type des valeurs de mat"
   ]
  },
  {
   "cell_type": "code",
   "execution_count": 22,
   "metadata": {
    "id": "NPVPO-TmJa2p"
   },
   "outputs": [
    {
     "data": {
      "text/plain": [
       "7.211102550927978"
      ]
     },
     "execution_count": 22,
     "metadata": {},
     "output_type": "execute_result"
    }
   ],
   "source": [
    "np.std(mat)"
   ]
  },
  {
   "cell_type": "code",
   "execution_count": null,
   "metadata": {
    "colab": {
     "base_uri": "https://localhost:8080/"
    },
    "id": "YeBKgyTmJa2p",
    "outputId": "43993e87-da94-443c-f921-613ad94a0359"
   },
   "outputs": [
    {
     "data": {
      "text/plain": [
       "7.211102550927978"
      ]
     },
     "execution_count": 24,
     "metadata": {
      "tags": []
     },
     "output_type": "execute_result"
    }
   ],
   "source": [
    "# Ne pas exécuter cette cellule"
   ]
  },
  {
   "cell_type": "markdown",
   "metadata": {
    "id": "Bx840i74Ja2q"
   },
   "source": [
    "### 20. Obtenir la somme de toutes les colonnes de mat"
   ]
  },
  {
   "cell_type": "code",
   "execution_count": 23,
   "metadata": {
    "id": "sMcWPrFCJa2q"
   },
   "outputs": [
    {
     "data": {
      "text/plain": [
       "array([55, 60, 65, 70, 75])"
      ]
     },
     "execution_count": 23,
     "metadata": {},
     "output_type": "execute_result"
    }
   ],
   "source": [
    "np.sum(mat, axis=0)"
   ]
  },
  {
   "cell_type": "code",
   "execution_count": null,
   "metadata": {
    "colab": {
     "base_uri": "https://localhost:8080/"
    },
    "id": "Rcc3qGpPJa2q",
    "outputId": "7c415a22-4446-419b-e64e-6c6817d964b2"
   },
   "outputs": [
    {
     "data": {
      "text/plain": [
       "array([55, 60, 65, 70, 75])"
      ]
     },
     "execution_count": 25,
     "metadata": {
      "tags": []
     },
     "output_type": "execute_result"
    }
   ],
   "source": [
    "# Ne pas exécuter cette cellule"
   ]
  },
  {
   "cell_type": "markdown",
   "metadata": {
    "id": "iN44EWA-Ja2q"
   },
   "source": [
    "## Question Bonus\n",
    "\n",
    "Nous allons beaucoup travailler avec des données aléatoires avec NumPy, mais existe-t-il un moyen de s'assurer que nous obtenons toujours les mêmes nombres aléatoires ? [Cliquez ici pour un indice](https://www.google.com/search?q=numpy+random+seed&rlz=1C1CHBF_enUS747US747&oq=numpy+random+seed&aqs=chrome..69i57j69i60j0l4.2087j0j7&sourceid=chrome&ie=UTF-8)"
   ]
  },
  {
   "cell_type": "code",
   "execution_count": null,
   "metadata": {
    "collapsed": true,
    "id": "xHkdEWWhJa2q"
   },
   "outputs": [],
   "source": []
  },
  {
   "cell_type": "markdown",
   "metadata": {
    "collapsed": true,
    "id": "wQ4C-4lgJa2q"
   },
   "source": [
    "**Bon courage !**"
   ]
  }
 ],
 "metadata": {
  "anaconda-cloud": {},
  "colab": {
   "provenance": []
  },
  "kernelspec": {
   "display_name": "Python 3 (ipykernel)",
   "language": "python",
   "name": "python3"
  },
  "language_info": {
   "codemirror_mode": {
    "name": "ipython",
    "version": 3
   },
   "file_extension": ".py",
   "mimetype": "text/x-python",
   "name": "python",
   "nbconvert_exporter": "python",
   "pygments_lexer": "ipython3",
   "version": "3.9.7"
  }
 },
 "nbformat": 4,
 "nbformat_minor": 1
}
